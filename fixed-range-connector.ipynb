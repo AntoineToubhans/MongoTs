{
 "cells": [
  {
   "cell_type": "markdown",
   "metadata": {},
   "source": [
    "Generate fake data\n",
    "====\n",
    "\n",
    "First, we use the fake data generator to create 10000 documents that will be pushed to mongo using a connector."
   ]
  },
  {
   "cell_type": "code",
   "execution_count": null,
   "metadata": {
    "collapsed": false
   },
   "outputs": [],
   "source": [
    "import random\n",
    "from pprint import pprint\n",
    "from lib.generator_fake_data import FakeDataGenerator\n",
    "\n",
    "generator = FakeDataGenerator(\n",
    "    time_increment=1800,\n",
    "    params=[{\n",
    "        'name': 'city',\n",
    "        'generator': lambda: random.choice(['Paris', 'London', 'Istanbul', 'Vezoul', 'Berlin']),\n",
    "    }, {\n",
    "        'name': 'type',\n",
    "        'generator': lambda: random.choice(['A', 'B', 'C']),\n",
    "    }, {\n",
    "        'name': 'temperature',\n",
    "        'generator': lambda: random.gauss(20, 5),\n",
    "    }, {\n",
    "        'name': 'pressure',\n",
    "        'generator': lambda: random.gauss(998, 15),\n",
    "    }, {\n",
    "        'name': 'wind_speed',\n",
    "        'generator': lambda: random.randint(0, 10),\n",
    "    }]\n",
    ")\n",
    "\n",
    "docs = generator.generate_documents(50000)\n",
    "\n",
    "print('{n} documents generated !'.format(n=len(docs)))\n",
    "print('Here is the first document:')\n",
    "pprint(docs[0])\n",
    "print('Here is the last document:')\n",
    "pprint(docs[-1])"
   ]
  },
  {
   "cell_type": "markdown",
   "metadata": {},
   "source": [
    "The fixed range connector\n",
    "======\n",
    "\n",
    "Declare a fixed-range connector by providing the tag keys:\n",
    "- `city`\n",
    "- `type`\n",
    "\n",
    "and the value keys:\n",
    "- `temperature`\n",
    "- `pressure`\n",
    "- `wind_speed`"
   ]
  },
  {
   "cell_type": "code",
   "execution_count": null,
   "metadata": {
    "collapsed": false
   },
   "outputs": [],
   "source": [
    "from lib.connector_fixed_range import FixedRangeConnector\n",
    "\n",
    "config = {\n",
    "    'uri': 'localhost',\n",
    "    'port': 27017,\n",
    "    'dbName': 'TestDb',\n",
    "    'collectionName': 'documents',\n",
    "}\n",
    "\n",
    "frc = FixedRangeConnector(\n",
    "    config,\n",
    "    time_key='datetime',\n",
    "    tag_keys=['city', 'type'],\n",
    "    value_keys=['temperature', 'pressure', 'wind_speed']\n",
    ")\n",
    "\n",
    "print('Fixed-range connector initialized: ' + str(frc))"
   ]
  },
  {
   "cell_type": "markdown",
   "metadata": {},
   "source": [
    "Push the documents into MongoDb using the connector\n",
    "=========\n",
    "\n",
    "It's super easy: simply use the `push` function of the connector. \n",
    "The fixed-range connector knows which fields to aggregates or groupby as we provided the corresponding keys when initializing it."
   ]
  },
  {
   "cell_type": "code",
   "execution_count": null,
   "metadata": {
    "collapsed": false
   },
   "outputs": [],
   "source": [
    "for i, doc in enumerate(docs):\n",
    "    frc.push(doc)\n",
    "    if i % 1000 == 999:\n",
    "        print('{n} documents inserted!'.format(n=i+1), flush=True)"
   ]
  },
  {
   "cell_type": "markdown",
   "metadata": {},
   "source": [
    "Get aggregates by days\n",
    "======"
   ]
  },
  {
   "cell_type": "code",
   "execution_count": null,
   "metadata": {
    "collapsed": false
   },
   "outputs": [],
   "source": [
    "import time\n",
    "from datetime import datetime, timedelta\n",
    "\n",
    "now = datetime.now()\n",
    "\n",
    "start_time = time.time()\n",
    "req = frc.getData(\n",
    "    start=now,\n",
    "    end=now + timedelta(days=500),\n",
    "    interval='1m',\n",
    "    tag_query={'city': 'Paris'},\n",
    "    value_queries=[{'name': 'Average temperature', 'key': 'temperature', 'type': 'average'}]\n",
    ")\n",
    "\n",
    "result = list(req)\n",
    "print('The request took: %s' %(time.time() - start_time))"
   ]
  },
  {
   "cell_type": "code",
   "execution_count": null,
   "metadata": {
    "collapsed": false
   },
   "outputs": [],
   "source": [
    "import matplotlib.pyplot as plt\n",
    "plt.figure(figsize=(15,6))\n",
    "\n",
    "for i, data in enumerate(result):\n",
    "    plt.plot(\n",
    "        data['data']['datetimes'], \n",
    "        data['data']['Average temperature'], ['r--', 'b-', 'g-'][i % 3],\n",
    "        label='{city} (type {type})'.format(city=data['metadata']['city'], type=data['metadata']['type'])\n",
    "    )\n",
    "\n",
    "plt.xlabel('dates')\n",
    "plt.ylabel('average temperature')\n",
    "plt.title('Average temperature in Paris')\n",
    "plt.grid(True)\n",
    "plt.legend()\n",
    "plt.show()"
   ]
  },
  {
   "cell_type": "markdown",
   "metadata": {},
   "source": [
    "Get aggregates by hours\n",
    "======"
   ]
  },
  {
   "cell_type": "code",
   "execution_count": null,
   "metadata": {
    "collapsed": false
   },
   "outputs": [],
   "source": [
    "now = datetime.now()\n",
    "\n",
    "req = frc.getData(\n",
    "    start=now,\n",
    "    end=now + timedelta(hours=100),\n",
    "    interval='1h',\n",
    "    tag_query={'type': 'A'},\n",
    "    value_queries=[{'name': 'pressure_avg', 'key': 'pressure', 'type': 'average'}]\n",
    ")\n",
    "\n",
    "result = list(req)\n",
    "\n",
    "line_styles = ['r--', 'b-', 'g--']\n",
    "\n",
    "plt.figure(figsize=(15,6))\n",
    "for i, data in enumerate(result):\n",
    "    plt.plot(\n",
    "        data['data']['datetimes'], \n",
    "        data['data']['pressure_avg'], line_styles[i],\n",
    "        label='{city} (type {type})'.format(city=data['metadata']['city'], type=data['metadata']['type'])\n",
    "    )\n",
    "plt.xlabel('dates')\n",
    "plt.ylabel('average pressure')\n",
    "plt.title('Average pressure of type A per hour')\n",
    "plt.grid(True)\n",
    "plt.legend()\n",
    "plt.show()"
   ]
  }
 ],
 "metadata": {
  "kernelspec": {
   "display_name": "Python 3",
   "language": "python",
   "name": "python3"
  },
  "language_info": {
   "codemirror_mode": {
    "name": "ipython",
    "version": 3
   },
   "file_extension": ".py",
   "mimetype": "text/x-python",
   "name": "python",
   "nbconvert_exporter": "python",
   "pygments_lexer": "ipython3",
   "version": "3.6.0"
  }
 },
 "nbformat": 4,
 "nbformat_minor": 2
}
